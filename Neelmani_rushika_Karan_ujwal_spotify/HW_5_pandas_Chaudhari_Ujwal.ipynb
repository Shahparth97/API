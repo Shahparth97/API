{
 "cells": [
  {
   "cell_type": "markdown",
   "metadata": {},
   "source": [
    "# Homework 5 - pandas\n",
    "\n",
    "This homework assignment requires you to analyze data from the New York City CitiBike system.\n",
    "\n",
    "- Please visit https://www.citibikenyc.com/system-data for a description of the system and the data that are available.\n",
    "- This homework assignment will only use the \"Citi Bike Trip Histories\" data.\n",
    "\n",
    "Please read the instructions below **carefully**."
   ]
  },
  {
   "cell_type": "code",
   "execution_count": 3,
   "metadata": {},
   "outputs": [],
   "source": [
    "# We'll need these libraries\n",
    "import numpy as np\n",
    "import pandas as pd\n",
    "import matplotlib.pyplot as plt"
   ]
  },
  {
   "cell_type": "markdown",
   "metadata": {},
   "source": [
    "---\n",
    "### Start by downloading Citi Bike data\n",
    "\n",
    "1. Visit https://s3.amazonaws.com/tripdata/index.html and download one of the `.zip` files.\n",
    "2. Unzip the file you just downloaded and **save it in the same folder/directory as this Jupyter notebook**.\n",
    "3. Make note of the filename (ending in `.csv`) of the data file, saving it in the `FILENAME` variable below.\n",
    "    - NOTE 1: The instructor will change this to a different filename to test your code.  You may want to experiment with different data files.\n",
    "    - NOTE 2: <font color=\"red\">Do not upload your .csv to Github...it's far too large for your repository.</font>  The instructor will test your code with a .csv that he downloads."
   ]
  },
  {
   "cell_type": "code",
   "execution_count": 4,
   "metadata": {},
   "outputs": [],
   "source": [
    "# Edit the value of `FILENAME` to \n",
    "# match the name of the file you unzipped:\n",
    "FILENAME = '202005-citibike-tripdata.csv'"
   ]
  },
  {
   "cell_type": "code",
   "execution_count": 6,
   "metadata": {},
   "outputs": [
    {
     "data": {
      "text/html": [
       "<div>\n",
       "<style scoped>\n",
       "    .dataframe tbody tr th:only-of-type {\n",
       "        vertical-align: middle;\n",
       "    }\n",
       "\n",
       "    .dataframe tbody tr th {\n",
       "        vertical-align: top;\n",
       "    }\n",
       "\n",
       "    .dataframe thead th {\n",
       "        text-align: right;\n",
       "    }\n",
       "</style>\n",
       "<table border=\"1\" class=\"dataframe\">\n",
       "  <thead>\n",
       "    <tr style=\"text-align: right;\">\n",
       "      <th></th>\n",
       "      <th>tripduration</th>\n",
       "      <th>starttime</th>\n",
       "      <th>stoptime</th>\n",
       "      <th>start_station_id</th>\n",
       "      <th>start_station_name</th>\n",
       "      <th>start_station_latitude</th>\n",
       "      <th>start_station_longitude</th>\n",
       "      <th>end_station_id</th>\n",
       "      <th>end_station_name</th>\n",
       "      <th>end_station_latitude</th>\n",
       "      <th>end_station_longitude</th>\n",
       "      <th>bikeid</th>\n",
       "      <th>usertype</th>\n",
       "      <th>birth_year</th>\n",
       "      <th>gender</th>\n",
       "    </tr>\n",
       "  </thead>\n",
       "  <tbody>\n",
       "    <tr>\n",
       "      <th>0</th>\n",
       "      <td>336</td>\n",
       "      <td>2020-05-01 00:01:06.3380</td>\n",
       "      <td>2020-05-01 00:06:42.9560</td>\n",
       "      <td>2017</td>\n",
       "      <td>E 43 St &amp; 2 Ave</td>\n",
       "      <td>40.750224</td>\n",
       "      <td>-73.971214</td>\n",
       "      <td>465</td>\n",
       "      <td>Broadway &amp; W 41 St</td>\n",
       "      <td>40.755136</td>\n",
       "      <td>-73.986580</td>\n",
       "      <td>18015</td>\n",
       "      <td>Subscriber</td>\n",
       "      <td>1993</td>\n",
       "      <td>1</td>\n",
       "    </tr>\n",
       "    <tr>\n",
       "      <th>1</th>\n",
       "      <td>853</td>\n",
       "      <td>2020-05-01 00:01:08.1950</td>\n",
       "      <td>2020-05-01 00:15:21.2150</td>\n",
       "      <td>3376</td>\n",
       "      <td>E 65 St &amp; 2 Ave</td>\n",
       "      <td>40.764719</td>\n",
       "      <td>-73.962221</td>\n",
       "      <td>478</td>\n",
       "      <td>11 Ave &amp; W 41 St</td>\n",
       "      <td>40.760301</td>\n",
       "      <td>-73.998842</td>\n",
       "      <td>35905</td>\n",
       "      <td>Subscriber</td>\n",
       "      <td>1989</td>\n",
       "      <td>1</td>\n",
       "    </tr>\n",
       "    <tr>\n",
       "      <th>2</th>\n",
       "      <td>78</td>\n",
       "      <td>2020-05-01 00:01:08.5260</td>\n",
       "      <td>2020-05-01 00:02:27.0490</td>\n",
       "      <td>396</td>\n",
       "      <td>Lefferts Pl &amp; Franklin Ave</td>\n",
       "      <td>40.680342</td>\n",
       "      <td>-73.955769</td>\n",
       "      <td>3789</td>\n",
       "      <td>Fulton St &amp; Irving Pl</td>\n",
       "      <td>40.681860</td>\n",
       "      <td>-73.959432</td>\n",
       "      <td>33350</td>\n",
       "      <td>Subscriber</td>\n",
       "      <td>1938</td>\n",
       "      <td>2</td>\n",
       "    </tr>\n",
       "    <tr>\n",
       "      <th>3</th>\n",
       "      <td>1185</td>\n",
       "      <td>2020-05-01 00:02:22.4380</td>\n",
       "      <td>2020-05-01 00:22:08.1220</td>\n",
       "      <td>3630</td>\n",
       "      <td>Frederick Douglass Blvd &amp; W 115 St</td>\n",
       "      <td>40.803865</td>\n",
       "      <td>-73.955931</td>\n",
       "      <td>3506</td>\n",
       "      <td>Lexington Ave &amp; E 120 St</td>\n",
       "      <td>40.801307</td>\n",
       "      <td>-73.939817</td>\n",
       "      <td>43790</td>\n",
       "      <td>Subscriber</td>\n",
       "      <td>1996</td>\n",
       "      <td>1</td>\n",
       "    </tr>\n",
       "    <tr>\n",
       "      <th>4</th>\n",
       "      <td>272</td>\n",
       "      <td>2020-05-01 00:02:32.8280</td>\n",
       "      <td>2020-05-01 00:07:05.0880</td>\n",
       "      <td>3776</td>\n",
       "      <td>Central Ave &amp; Starr Street</td>\n",
       "      <td>40.700003</td>\n",
       "      <td>-73.928340</td>\n",
       "      <td>3068</td>\n",
       "      <td>Humboldt St &amp; Varet St</td>\n",
       "      <td>40.703172</td>\n",
       "      <td>-73.940636</td>\n",
       "      <td>39912</td>\n",
       "      <td>Subscriber</td>\n",
       "      <td>1993</td>\n",
       "      <td>1</td>\n",
       "    </tr>\n",
       "    <tr>\n",
       "      <th>...</th>\n",
       "      <td>...</td>\n",
       "      <td>...</td>\n",
       "      <td>...</td>\n",
       "      <td>...</td>\n",
       "      <td>...</td>\n",
       "      <td>...</td>\n",
       "      <td>...</td>\n",
       "      <td>...</td>\n",
       "      <td>...</td>\n",
       "      <td>...</td>\n",
       "      <td>...</td>\n",
       "      <td>...</td>\n",
       "      <td>...</td>\n",
       "      <td>...</td>\n",
       "      <td>...</td>\n",
       "    </tr>\n",
       "    <tr>\n",
       "      <th>1487885</th>\n",
       "      <td>981</td>\n",
       "      <td>2020-05-31 23:59:19.0310</td>\n",
       "      <td>2020-06-01 00:15:40.5590</td>\n",
       "      <td>313</td>\n",
       "      <td>Washington Ave &amp; Park Ave</td>\n",
       "      <td>40.696102</td>\n",
       "      <td>-73.967510</td>\n",
       "      <td>217</td>\n",
       "      <td>Old Fulton St</td>\n",
       "      <td>40.702772</td>\n",
       "      <td>-73.993836</td>\n",
       "      <td>43706</td>\n",
       "      <td>Subscriber</td>\n",
       "      <td>1972</td>\n",
       "      <td>2</td>\n",
       "    </tr>\n",
       "    <tr>\n",
       "      <th>1487886</th>\n",
       "      <td>367</td>\n",
       "      <td>2020-05-31 23:59:36.2270</td>\n",
       "      <td>2020-06-01 00:05:43.6200</td>\n",
       "      <td>545</td>\n",
       "      <td>E 23 St &amp; 1 Ave</td>\n",
       "      <td>40.736502</td>\n",
       "      <td>-73.978095</td>\n",
       "      <td>501</td>\n",
       "      <td>FDR Drive &amp; E 35 St</td>\n",
       "      <td>40.744219</td>\n",
       "      <td>-73.971212</td>\n",
       "      <td>41321</td>\n",
       "      <td>Subscriber</td>\n",
       "      <td>1994</td>\n",
       "      <td>2</td>\n",
       "    </tr>\n",
       "    <tr>\n",
       "      <th>1487887</th>\n",
       "      <td>1798</td>\n",
       "      <td>2020-05-31 23:59:37.7250</td>\n",
       "      <td>2020-06-01 00:29:36.6800</td>\n",
       "      <td>450</td>\n",
       "      <td>W 49 St &amp; 8 Ave</td>\n",
       "      <td>40.762272</td>\n",
       "      <td>-73.987882</td>\n",
       "      <td>485</td>\n",
       "      <td>W 37 St &amp; 5 Ave</td>\n",
       "      <td>40.750380</td>\n",
       "      <td>-73.983390</td>\n",
       "      <td>37418</td>\n",
       "      <td>Subscriber</td>\n",
       "      <td>1998</td>\n",
       "      <td>1</td>\n",
       "    </tr>\n",
       "    <tr>\n",
       "      <th>1487888</th>\n",
       "      <td>718</td>\n",
       "      <td>2020-05-31 23:59:47.7090</td>\n",
       "      <td>2020-06-01 00:11:46.5210</td>\n",
       "      <td>3691</td>\n",
       "      <td>28 Ave &amp; 44 St</td>\n",
       "      <td>40.764089</td>\n",
       "      <td>-73.910651</td>\n",
       "      <td>3691</td>\n",
       "      <td>28 Ave &amp; 44 St</td>\n",
       "      <td>40.764089</td>\n",
       "      <td>-73.910651</td>\n",
       "      <td>41190</td>\n",
       "      <td>Customer</td>\n",
       "      <td>1969</td>\n",
       "      <td>0</td>\n",
       "    </tr>\n",
       "    <tr>\n",
       "      <th>1487889</th>\n",
       "      <td>1168</td>\n",
       "      <td>2020-05-31 23:59:48.0660</td>\n",
       "      <td>2020-06-01 00:19:16.4730</td>\n",
       "      <td>467</td>\n",
       "      <td>Dean St &amp; 4 Ave</td>\n",
       "      <td>40.683125</td>\n",
       "      <td>-73.978951</td>\n",
       "      <td>239</td>\n",
       "      <td>Willoughby St &amp; Fleet St</td>\n",
       "      <td>40.691966</td>\n",
       "      <td>-73.981302</td>\n",
       "      <td>33450</td>\n",
       "      <td>Customer</td>\n",
       "      <td>2000</td>\n",
       "      <td>1</td>\n",
       "    </tr>\n",
       "  </tbody>\n",
       "</table>\n",
       "<p>1487890 rows × 15 columns</p>\n",
       "</div>"
      ],
      "text/plain": [
       "         tripduration                 starttime                  stoptime  \\\n",
       "0                 336  2020-05-01 00:01:06.3380  2020-05-01 00:06:42.9560   \n",
       "1                 853  2020-05-01 00:01:08.1950  2020-05-01 00:15:21.2150   \n",
       "2                  78  2020-05-01 00:01:08.5260  2020-05-01 00:02:27.0490   \n",
       "3                1185  2020-05-01 00:02:22.4380  2020-05-01 00:22:08.1220   \n",
       "4                 272  2020-05-01 00:02:32.8280  2020-05-01 00:07:05.0880   \n",
       "...               ...                       ...                       ...   \n",
       "1487885           981  2020-05-31 23:59:19.0310  2020-06-01 00:15:40.5590   \n",
       "1487886           367  2020-05-31 23:59:36.2270  2020-06-01 00:05:43.6200   \n",
       "1487887          1798  2020-05-31 23:59:37.7250  2020-06-01 00:29:36.6800   \n",
       "1487888           718  2020-05-31 23:59:47.7090  2020-06-01 00:11:46.5210   \n",
       "1487889          1168  2020-05-31 23:59:48.0660  2020-06-01 00:19:16.4730   \n",
       "\n",
       "         start_station_id                  start_station_name  \\\n",
       "0                    2017                     E 43 St & 2 Ave   \n",
       "1                    3376                     E 65 St & 2 Ave   \n",
       "2                     396          Lefferts Pl & Franklin Ave   \n",
       "3                    3630  Frederick Douglass Blvd & W 115 St   \n",
       "4                    3776          Central Ave & Starr Street   \n",
       "...                   ...                                 ...   \n",
       "1487885               313           Washington Ave & Park Ave   \n",
       "1487886               545                     E 23 St & 1 Ave   \n",
       "1487887               450                     W 49 St & 8 Ave   \n",
       "1487888              3691                      28 Ave & 44 St   \n",
       "1487889               467                     Dean St & 4 Ave   \n",
       "\n",
       "         start_station_latitude  start_station_longitude  end_station_id  \\\n",
       "0                     40.750224               -73.971214             465   \n",
       "1                     40.764719               -73.962221             478   \n",
       "2                     40.680342               -73.955769            3789   \n",
       "3                     40.803865               -73.955931            3506   \n",
       "4                     40.700003               -73.928340            3068   \n",
       "...                         ...                      ...             ...   \n",
       "1487885               40.696102               -73.967510             217   \n",
       "1487886               40.736502               -73.978095             501   \n",
       "1487887               40.762272               -73.987882             485   \n",
       "1487888               40.764089               -73.910651            3691   \n",
       "1487889               40.683125               -73.978951             239   \n",
       "\n",
       "                 end_station_name  end_station_latitude  \\\n",
       "0              Broadway & W 41 St             40.755136   \n",
       "1                11 Ave & W 41 St             40.760301   \n",
       "2           Fulton St & Irving Pl             40.681860   \n",
       "3        Lexington Ave & E 120 St             40.801307   \n",
       "4          Humboldt St & Varet St             40.703172   \n",
       "...                           ...                   ...   \n",
       "1487885             Old Fulton St             40.702772   \n",
       "1487886       FDR Drive & E 35 St             40.744219   \n",
       "1487887           W 37 St & 5 Ave             40.750380   \n",
       "1487888            28 Ave & 44 St             40.764089   \n",
       "1487889  Willoughby St & Fleet St             40.691966   \n",
       "\n",
       "         end_station_longitude  bikeid    usertype  birth_year  gender  \n",
       "0                   -73.986580   18015  Subscriber        1993       1  \n",
       "1                   -73.998842   35905  Subscriber        1989       1  \n",
       "2                   -73.959432   33350  Subscriber        1938       2  \n",
       "3                   -73.939817   43790  Subscriber        1996       1  \n",
       "4                   -73.940636   39912  Subscriber        1993       1  \n",
       "...                        ...     ...         ...         ...     ...  \n",
       "1487885             -73.993836   43706  Subscriber        1972       2  \n",
       "1487886             -73.971212   41321  Subscriber        1994       2  \n",
       "1487887             -73.983390   37418  Subscriber        1998       1  \n",
       "1487888             -73.910651   41190    Customer        1969       0  \n",
       "1487889             -73.981302   33450    Customer        2000       1  \n",
       "\n",
       "[1487890 rows x 15 columns]"
      ]
     },
     "execution_count": 6,
     "metadata": {},
     "output_type": "execute_result"
    }
   ],
   "source": [
    "# DO NOT EDIT THIS CELL!\n",
    "bike_trips_df = pd.read_csv(FILENAME)\n",
    "bike_trips_df.columns = [column.replace (\" \",\"_\") for column in bike_trips_df.columns]\n",
    "bike_trips_df"
   ]
  },
  {
   "cell_type": "markdown",
   "metadata": {},
   "source": [
    "--- \n",
    "\n",
    "<font color=\"orange\">Your homework assignment begins here.</font>\n",
    "\n",
    "- The \"Out[]\" cells below contain the answers for `FILENAME='202001-citibike-tripdata.csv'`.  \n",
    "\n",
    "---\n",
    "### Question 1:  How many trips are contained in the file? \n",
    "- Store the answer in a variable named `numTrips`, and print/display the value of this variable.\n",
    "- NOTE:  Each row corresponds to a \"trip\" (i.e., it has a single origin and a single destination."
   ]
  },
  {
   "cell_type": "code",
   "execution_count": 8,
   "metadata": {},
   "outputs": [
    {
     "data": {
      "text/plain": [
       "1487890"
      ]
     },
     "execution_count": 8,
     "metadata": {},
     "output_type": "execute_result"
    }
   ],
   "source": [
    "#replacing all spaces in column names with \"_\" first\n",
    "\n",
    "index = bike_trips_df.index\n",
    "numTrips = len(index)\n",
    "numTrips"
   ]
  },
  {
   "cell_type": "markdown",
   "metadata": {},
   "source": [
    "---\n",
    "### Question 2:  What is the *average* trip duration (in seconds)?\n",
    "- Store the answer in a variable named `avgTripDuration`, and print/display the value of this variable."
   ]
  },
  {
   "cell_type": "code",
   "execution_count": 10,
   "metadata": {},
   "outputs": [
    {
     "data": {
      "text/plain": [
       "1631.9154124296822"
      ]
     },
     "execution_count": 10,
     "metadata": {},
     "output_type": "execute_result"
    }
   ],
   "source": [
    "avgTripDuration = bike_trips_df['tripduration'].mean()\n",
    "avgTripDuration"
   ]
  },
  {
   "cell_type": "markdown",
   "metadata": {},
   "source": [
    "---\n",
    "### Question 3:  What is the *maximum* trip duration (in seconds) *for female riders*?\n",
    "- Store the answer in a variable named `maxFemaleTripDuration`, and print/display the value of this variable."
   ]
  },
  {
   "cell_type": "code",
   "execution_count": 12,
   "metadata": {},
   "outputs": [
    {
     "data": {
      "text/plain": [
       "2860517"
      ]
     },
     "execution_count": 12,
     "metadata": {},
     "output_type": "execute_result"
    }
   ],
   "source": [
    "#1577951 is the right answer\n",
    "# your code goes here...\n",
    "\n",
    "max_trip_female = bike_trips_df[['gender','tripduration']]\n",
    "#assuming 0 is for female \n",
    "max_trip_female.query('gender == 0')\n",
    "tripduration = max_trip_female [\"tripduration\"]\n",
    "\n",
    "maxFemaleTripDuration = tripduration.max()\n",
    "maxFemaleTripDuration"
   ]
  },
  {
   "cell_type": "markdown",
   "metadata": {},
   "source": [
    "---\n",
    "### Question 4:  How many unique bikes are there?  \n",
    "- Store the answer in a variable named `numUniqueBikes`, and print/display the value of this variable.\n",
    "- NOTE:  Each bike has a unique ID."
   ]
  },
  {
   "cell_type": "code",
   "execution_count": 14,
   "metadata": {},
   "outputs": [
    {
     "data": {
      "text/plain": [
       "15003"
      ]
     },
     "execution_count": 14,
     "metadata": {},
     "output_type": "execute_result"
    }
   ],
   "source": [
    "# your code goes here...\n",
    "\n",
    "numUniqueBikes = len(pd.unique(bike_trips_df['bikeid']))\n",
    "numUniqueBikes"
   ]
  },
  {
   "cell_type": "markdown",
   "metadata": {},
   "source": [
    "---\n",
    "### Question 5:  How many unique starting stations are there?\n",
    "- Store the answer in a variable named `numUniqueStartStations`, and print/display the value of this variable."
   ]
  },
  {
   "cell_type": "code",
   "execution_count": 16,
   "metadata": {},
   "outputs": [
    {
     "data": {
      "text/plain": [
       "923"
      ]
     },
     "execution_count": 16,
     "metadata": {},
     "output_type": "execute_result"
    }
   ],
   "source": [
    "# your code goes here...\n",
    "\n",
    "numUniqueStartStations = len(pd.unique(bike_trips_df['start_station_id']))\n",
    "numUniqueStartStations"
   ]
  },
  {
   "cell_type": "markdown",
   "metadata": {},
   "source": [
    "---\n",
    "### Question 6:  How many unique stations are in this file (across both start stations and end stations)?\n",
    "- Store the answer in a variable named `numUniqueStations`, and print/display the value of this variable."
   ]
  },
  {
   "cell_type": "code",
   "execution_count": 18,
   "metadata": {},
   "outputs": [
    {
     "data": {
      "text/plain": [
       "1857"
      ]
     },
     "execution_count": 18,
     "metadata": {},
     "output_type": "execute_result"
    }
   ],
   "source": [
    "#not correct\n",
    "# your code goes here...\n",
    "numUniqueEndStations = len(pd.unique(bike_trips_df['end_station_id']))\n",
    "numUniqueStations = numUniqueStartStations + numUniqueEndStations\n",
    "numUniqueStations"
   ]
  },
  {
   "cell_type": "markdown",
   "metadata": {},
   "source": [
    "---\n",
    "### Question 7:  Create a list that contains all even-numbered stations.\n",
    "- Store the answer in a variable named `evenStationsList`, and print/display the value of this variable.\n",
    "- HINT:  `x % 2` returns the remainder of variable `x` divided by 2.  For example, `5 % 2 = 1`, but `4 % 2 = 0`."
   ]
  },
  {
   "cell_type": "code",
   "execution_count": 20,
   "metadata": {},
   "outputs": [
    {
     "name": "stderr",
     "output_type": "stream",
     "text": [
      "IOPub data rate exceeded.\n",
      "The notebook server will temporarily stop sending output\n",
      "to the client in order to avoid crashing it.\n",
      "To change this limit, set the config variable\n",
      "`--NotebookApp.iopub_data_rate_limit`.\n",
      "\n",
      "Current values:\n",
      "NotebookApp.iopub_data_rate_limit=1000000.0 (bytes/sec)\n",
      "NotebookApp.rate_limit_window=3.0 (secs)\n",
      "\n"
     ]
    }
   ],
   "source": [
    "# # your code goes here...\n",
    "\n",
    "station_id = bike_trips_df[['start_station_id', 'end_station_id']]\n",
    "station_id_start_list = station_id['start_station_id'].tolist()\n",
    "station_id_end_list = station_id['end_station_id'].tolist()\n",
    "all_stations = station_id_start_list + station_id_end_list\n",
    "\n",
    "#assuming that repetitive stations are allowed\n",
    "\n",
    "evenStationsList = []\n",
    "for x in all_stations:\n",
    "    if x % 2 == 0:\n",
    "        evenStationsList.append(x)\n",
    "print(evenStationsList)"
   ]
  },
  {
   "cell_type": "markdown",
   "metadata": {},
   "source": [
    "---\n",
    "### Question 8:  How many stations are in the list you created in Question 7?\n",
    "- Store the answer in a variable named `numEvenStations`, and print/display the value of this variable."
   ]
  },
  {
   "cell_type": "code",
   "execution_count": 21,
   "metadata": {},
   "outputs": [
    {
     "data": {
      "text/plain": [
       "1497778"
      ]
     },
     "execution_count": 21,
     "metadata": {},
     "output_type": "execute_result"
    }
   ],
   "source": [
    "# # your code goes here...\n",
    "\n",
    "numEvenStations = len(evenStationsList)\n",
    "numEvenStations"
   ]
  },
  {
   "cell_type": "markdown",
   "metadata": {},
   "source": [
    "---\n",
    "### Question 9:  What is the average number of trips per bike?\n",
    "- Store the answer in a variable named `avgTripsPerBike`, and print/display the value of this variable.\t\t\n",
    "- NOTE 1:  **Do NOT use \"for\" loops.**\n",
    "- HINT: See the pandas `groupby()` operation."
   ]
  },
  {
   "cell_type": "code",
   "execution_count": 23,
   "metadata": {},
   "outputs": [
    {
     "data": {
      "text/plain": [
       "99.17283210024662"
      ]
     },
     "execution_count": 23,
     "metadata": {},
     "output_type": "execute_result"
    }
   ],
   "source": [
    "# your code goes here...\n",
    "\n",
    "avgTripsPerBike = numTrips / numUniqueBikes\n",
    "avgTripsPerBike"
   ]
  },
  {
   "cell_type": "markdown",
   "metadata": {},
   "source": [
    "---\n",
    "### Question 10:  As of Jan. 1, 2020, what was the average age of bike riders?  (Assume riders were born on Jan. 1 of the given birth year.)\n",
    "- Store the answer in a variable named `avgRiderAge`, and print/display the value of this variable."
   ]
  },
  {
   "cell_type": "code",
   "execution_count": 25,
   "metadata": {},
   "outputs": [
    {
     "data": {
      "text/plain": [
       "39.06685843711557"
      ]
     },
     "execution_count": 25,
     "metadata": {},
     "output_type": "execute_result"
    }
   ],
   "source": [
    "# your code goes here...\n",
    "birthyear = bike_trips_df['birth_year']\n",
    "avg_birthyear = birthyear.mean()\n",
    "avgRiderAge = 2020 - avg_birthyear\n",
    "avgRiderAge"
   ]
  },
  {
   "cell_type": "markdown",
   "metadata": {},
   "source": [
    "---\n",
    "### Question 11:  Create a bar plot showing the number of trips for each day of the week.  Label each bar with the day of the week, starting with  Monday (e.g., 'Monday', 'Tuesday', etc.).\n",
    "- NOTE 1:  **Do NOT use \"for\" loops**.\n",
    "\n",
    "- HINT 1:  Add a column to the dataframe that contains the day of the week corresponding to the start date of each row.\n",
    "\n",
    "- HINT 2:  The `groupby()` operation may be helpful."
   ]
  },
  {
   "cell_type": "code",
   "execution_count": 26,
   "metadata": {},
   "outputs": [
    {
     "data": {
      "text/html": [
       "<div>\n",
       "<style scoped>\n",
       "    .dataframe tbody tr th:only-of-type {\n",
       "        vertical-align: middle;\n",
       "    }\n",
       "\n",
       "    .dataframe tbody tr th {\n",
       "        vertical-align: top;\n",
       "    }\n",
       "\n",
       "    .dataframe thead tr th {\n",
       "        text-align: left;\n",
       "    }\n",
       "\n",
       "    .dataframe thead tr:last-of-type th {\n",
       "        text-align: right;\n",
       "    }\n",
       "</style>\n",
       "<table border=\"1\" class=\"dataframe\">\n",
       "  <thead>\n",
       "    <tr>\n",
       "      <th></th>\n",
       "      <th>tripduration</th>\n",
       "      <th>day_of_week</th>\n",
       "    </tr>\n",
       "    <tr>\n",
       "      <th></th>\n",
       "      <th>count</th>\n",
       "      <th></th>\n",
       "    </tr>\n",
       "    <tr>\n",
       "      <th>dayofweek</th>\n",
       "      <th></th>\n",
       "      <th></th>\n",
       "    </tr>\n",
       "  </thead>\n",
       "  <tbody>\n",
       "    <tr>\n",
       "      <th>Monday</th>\n",
       "      <td>162115</td>\n",
       "      <td>Monday</td>\n",
       "    </tr>\n",
       "    <tr>\n",
       "      <th>Tuesday</th>\n",
       "      <td>165072</td>\n",
       "      <td>Tuesday</td>\n",
       "    </tr>\n",
       "    <tr>\n",
       "      <th>Wednesday</th>\n",
       "      <td>158495</td>\n",
       "      <td>Wednesday</td>\n",
       "    </tr>\n",
       "    <tr>\n",
       "      <th>Thursday</th>\n",
       "      <td>179914</td>\n",
       "      <td>Thursday</td>\n",
       "    </tr>\n",
       "    <tr>\n",
       "      <th>Friday</th>\n",
       "      <td>195971</td>\n",
       "      <td>Friday</td>\n",
       "    </tr>\n",
       "    <tr>\n",
       "      <th>Saturday</th>\n",
       "      <td>290940</td>\n",
       "      <td>Saturday</td>\n",
       "    </tr>\n",
       "    <tr>\n",
       "      <th>Sunday</th>\n",
       "      <td>335383</td>\n",
       "      <td>Sunday</td>\n",
       "    </tr>\n",
       "  </tbody>\n",
       "</table>\n",
       "</div>"
      ],
      "text/plain": [
       "          tripduration day_of_week\n",
       "                 count            \n",
       "dayofweek                         \n",
       "Monday          162115      Monday\n",
       "Tuesday         165072     Tuesday\n",
       "Wednesday       158495   Wednesday\n",
       "Thursday        179914    Thursday\n",
       "Friday          195971      Friday\n",
       "Saturday        290940    Saturday\n",
       "Sunday          335383      Sunday"
      ]
     },
     "execution_count": 26,
     "metadata": {},
     "output_type": "execute_result"
    }
   ],
   "source": [
    "# your code goes here...\n",
    "bike_trips_df['starttime'] = pd.to_datetime(bike_trips_df['starttime'])\n",
    "dates = bike_trips_df['starttime']\n",
    "\n",
    "#add the columns with day of week\n",
    "bike_trips_df['dayofweek'] = bike_trips_df['starttime'].dt.day_name()\n",
    "\n",
    "#start groupby operation\n",
    "day_df = bike_trips_df[['dayofweek','tripduration']].groupby(['dayofweek']).agg(['count'])\n",
    "\n",
    "cats = [ 'Monday', 'Tuesday', 'Wednesday', 'Thursday', 'Friday', 'Saturday', 'Sunday']\n",
    "df_weekday = day_df.groupby(['dayofweek']).sum().reindex(cats)\n",
    "\n",
    "days_in_week = [ 'Monday', 'Tuesday', 'Wednesday', 'Thursday', 'Friday', 'Saturday', 'Sunday']\n",
    "df_weekday['day_of_week'] = days_in_week\n",
    "df_weekday"
   ]
  },
  {
   "cell_type": "code",
   "execution_count": 27,
   "metadata": {},
   "outputs": [
    {
     "data": {
      "text/plain": [
       "<AxesSubplot:xlabel='day_of_week'>"
      ]
     },
     "execution_count": 27,
     "metadata": {},
     "output_type": "execute_result"
    },
    {
     "data": {
      "image/png": "[encoded data removed]",
      "text/plain": [
       "<Figure size 648x576 with 1 Axes>"
      ]
     },
     "metadata": {
      "needs_background": "light"
     },
     "output_type": "display_data"
    }
   ],
   "source": [
    "\n",
    "df_weekday.plot(x = \"day_of_week\" , y = \"tripduration\", kind = \"bar\",figsize=(9,8))\n"
   ]
  },
  {
   "cell_type": "markdown",
   "metadata": {},
   "source": [
    "---\n",
    "### Question 12:  Which station(s) have the most departures?  \n",
    "- Your answer should be a pandas **series** containing the `start station id` values and counts for the stations that have the most departures. \n",
    "- NOTE 1:  There could be ties (i.e., multiple rows in the series).\n",
    "- NOTE 2:  This question is **not** asking you to sort all of the stations according to the number of departures.  For example, if the maximum number of departures is 100, and if there are two stations that have 100 departures, then your series should contain just these two stations."
   ]
  },
  {
   "cell_type": "code",
   "execution_count": 28,
   "metadata": {},
   "outputs": [
    {
     "data": {
      "text/plain": [
       "start_station_id\n",
       "514    10110\n",
       "Name: tripduration, dtype: int64"
      ]
     },
     "execution_count": 28,
     "metadata": {},
     "output_type": "execute_result"
    }
   ],
   "source": [
    "# your code goes here...\n",
    "#start groupby operation\n",
    "most_depart = bike_trips_df[['start_station_id','tripduration']]\n",
    "\n",
    "most_depart_groupby = most_depart.groupby(['start_station_id']).count()\n",
    "max_value = most_depart_groupby['tripduration'].max()\n",
    "\n",
    "max_query = most_depart_groupby.query('tripduration == @max_value', inplace = False)\n",
    "max_query['tripduration']"
   ]
  },
  {
   "cell_type": "markdown",
   "metadata": {},
   "source": [
    "---\n",
    "### Question 13:  Which stations were used by the bike with the smallest \"bikeID\"?\n",
    "- Your answer should be a filtered dataframe containing three columns:\n",
    "   1. The smallest (minimum) bikeid.  (This value will be the same for each row.)\n",
    "   2. The 'start station ID'.\n",
    "   3. The 'end station ID'.  "
   ]
  },
  {
   "cell_type": "code",
   "execution_count": 29,
   "metadata": {},
   "outputs": [
    {
     "data": {
      "text/html": [
       "<div>\n",
       "<style scoped>\n",
       "    .dataframe tbody tr th:only-of-type {\n",
       "        vertical-align: middle;\n",
       "    }\n",
       "\n",
       "    .dataframe tbody tr th {\n",
       "        vertical-align: top;\n",
       "    }\n",
       "\n",
       "    .dataframe thead th {\n",
       "        text-align: right;\n",
       "    }\n",
       "</style>\n",
       "<table border=\"1\" class=\"dataframe\">\n",
       "  <thead>\n",
       "    <tr style=\"text-align: right;\">\n",
       "      <th></th>\n",
       "      <th>bikeid</th>\n",
       "      <th>start_station_id</th>\n",
       "      <th>end_station_id</th>\n",
       "    </tr>\n",
       "  </thead>\n",
       "  <tbody>\n",
       "    <tr>\n",
       "      <th>1326</th>\n",
       "      <td>14530</td>\n",
       "      <td>410</td>\n",
       "      <td>3733</td>\n",
       "    </tr>\n",
       "    <tr>\n",
       "      <th>4680</th>\n",
       "      <td>14530</td>\n",
       "      <td>3733</td>\n",
       "      <td>3656</td>\n",
       "    </tr>\n",
       "    <tr>\n",
       "      <th>16743</th>\n",
       "      <td>14530</td>\n",
       "      <td>3656</td>\n",
       "      <td>3263</td>\n",
       "    </tr>\n",
       "    <tr>\n",
       "      <th>52816</th>\n",
       "      <td>14530</td>\n",
       "      <td>3263</td>\n",
       "      <td>504</td>\n",
       "    </tr>\n",
       "    <tr>\n",
       "      <th>54930</th>\n",
       "      <td>14530</td>\n",
       "      <td>504</td>\n",
       "      <td>3793</td>\n",
       "    </tr>\n",
       "    <tr>\n",
       "      <th>...</th>\n",
       "      <td>...</td>\n",
       "      <td>...</td>\n",
       "      <td>...</td>\n",
       "    </tr>\n",
       "    <tr>\n",
       "      <th>1345472</th>\n",
       "      <td>14530</td>\n",
       "      <td>3425</td>\n",
       "      <td>507</td>\n",
       "    </tr>\n",
       "    <tr>\n",
       "      <th>1349857</th>\n",
       "      <td>14530</td>\n",
       "      <td>507</td>\n",
       "      <td>265</td>\n",
       "    </tr>\n",
       "    <tr>\n",
       "      <th>1384512</th>\n",
       "      <td>14530</td>\n",
       "      <td>265</td>\n",
       "      <td>349</td>\n",
       "    </tr>\n",
       "    <tr>\n",
       "      <th>1432161</th>\n",
       "      <td>14530</td>\n",
       "      <td>349</td>\n",
       "      <td>3065</td>\n",
       "    </tr>\n",
       "    <tr>\n",
       "      <th>1486547</th>\n",
       "      <td>14530</td>\n",
       "      <td>3065</td>\n",
       "      <td>3096</td>\n",
       "    </tr>\n",
       "  </tbody>\n",
       "</table>\n",
       "<p>77 rows × 3 columns</p>\n",
       "</div>"
      ],
      "text/plain": [
       "         bikeid  start_station_id  end_station_id\n",
       "1326      14530               410            3733\n",
       "4680      14530              3733            3656\n",
       "16743     14530              3656            3263\n",
       "52816     14530              3263             504\n",
       "54930     14530               504            3793\n",
       "...         ...               ...             ...\n",
       "1345472   14530              3425             507\n",
       "1349857   14530               507             265\n",
       "1384512   14530               265             349\n",
       "1432161   14530               349            3065\n",
       "1486547   14530              3065            3096\n",
       "\n",
       "[77 rows x 3 columns]"
      ]
     },
     "execution_count": 29,
     "metadata": {},
     "output_type": "execute_result"
    }
   ],
   "source": [
    "# your code goes here...\n",
    "min_bikeid = bike_trips_df['bikeid'].min()\n",
    "#print(min_bikeid)\n",
    "min_bike_stations = bike_trips_df.query(\"bikeid == @min_bikeid\"  , inplace= False)\n",
    "\n",
    "min_bike_stations[['bikeid','start_station_id','end_station_id']]"
   ]
  },
  {
   "cell_type": "markdown",
   "metadata": {},
   "source": [
    "--- \n",
    "### Question 14:  How many trips were started between 8:00am and 10:00am?\n",
    "- Store the answer in a variable named `numEarlyTrips`, and print/display the value of this variable."
   ]
  },
  {
   "cell_type": "code",
   "execution_count": 30,
   "metadata": {},
   "outputs": [
    {
     "data": {
      "text/plain": [
       "144863"
      ]
     },
     "execution_count": 30,
     "metadata": {},
     "output_type": "execute_result"
    }
   ],
   "source": [
    "#this is wrong 88761\n",
    "# # your code goes here...\n",
    "#early_trips = bike_trips_df.query(\"starttime == '2017-10-01 00:00:20'\"  , inplace= False)\n",
    "#early_trips\n",
    "\n",
    "bike_trips_df['hour'] = bike_trips_df['starttime'].dt.hour\n",
    "early_trips = bike_trips_df.query(\"hour >= 8 & hour <= 10\"  , inplace= False)\n",
    "\n",
    "\n",
    "numEarlyTrips_index = early_trips.index\n",
    "numEarlyTrips = len(numEarlyTrips_index)\n",
    "numEarlyTrips"
   ]
  },
  {
   "cell_type": "markdown",
   "metadata": {},
   "source": [
    "---\n",
    "### Question 15:  How many trips were taken by users of type \"Subscriber\" who were born on or after the year 1999?\n",
    "- Store the answer in a variable named `numYoungerSubscribers`, and print/display the value of this variable."
   ]
  },
  {
   "cell_type": "code",
   "execution_count": 31,
   "metadata": {},
   "outputs": [
    {
     "data": {
      "text/plain": [
       "16006"
      ]
     },
     "execution_count": 31,
     "metadata": {},
     "output_type": "execute_result"
    }
   ],
   "source": [
    "# your code goes here...\n",
    "\n",
    "bike_trips_df['birth_year'] = bike_trips_df['birth_year'].fillna(0)\n",
    "\n",
    "young_subscriber = bike_trips_df.query(\"usertype == 'Subscriber' & birth_year >= 1999\" , inplace= False)\n",
    "\n",
    "\n",
    "young_index = young_subscriber.index\n",
    "numYoungerSubscribers = len(young_index)\n",
    "numYoungerSubscribers\n"
   ]
  },
  {
   "cell_type": "code",
   "execution_count": null,
   "metadata": {},
   "outputs": [],
   "source": []
  }
 ],
 "metadata": {
  "kernelspec": {
   "display_name": "Python 3",
   "language": "python",
   "name": "python3"
  },
  "language_info": {
   "codemirror_mode": {
    "name": "ipython",
    "version": 3
   },
   "file_extension": ".py",
   "mimetype": "text/x-python",
   "name": "python",
   "nbconvert_exporter": "python",
   "pygments_lexer": "ipython3",
   "version": "3.8.5"
  }
 },
 "nbformat": 4,
 "nbformat_minor": 2
}
