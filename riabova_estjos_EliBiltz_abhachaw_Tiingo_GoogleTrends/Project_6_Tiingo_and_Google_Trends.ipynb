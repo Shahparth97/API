{
  "nbformat": 4,
  "nbformat_minor": 5,
  "metadata": {
    "kernelspec": {
      "display_name": "Python 3",
      "language": "python",
      "name": "python3"
    },
    "language_info": {
      "codemirror_mode": {
        "name": "ipython",
        "version": 3
      },
      "file_extension": ".py",
      "mimetype": "text/x-python",
      "name": "python",
      "nbconvert_exporter": "python",
      "pygments_lexer": "ipython3",
      "version": "3.8.5"
    },
    "colab": {
      "name": "Project 6 Tiingo and Google Trends.ipynb",
      "provenance": [],
      "collapsed_sections": []
    }
  },
  "cells": [
    {
      "cell_type": "markdown",
      "metadata": {
        "id": "Vsc5ccGIFmE7"
      },
      "source": [
        "# Stock Price Data and Google Trends with Tiingo and pytrends"
      ],
      "id": "Vsc5ccGIFmE7"
    },
    {
      "cell_type": "markdown",
      "metadata": {
        "id": "RVjK0-kTF-m1"
      },
      "source": [
        "## Stock Price Data (Tiingo)"
      ],
      "id": "RVjK0-kTF-m1"
    },
    {
      "cell_type": "markdown",
      "metadata": {
        "id": "african-dallas"
      },
      "source": [
        "Obtaining stock closing data from 01-00-2021 through 03-31-2021"
      ],
      "id": "african-dallas"
    },
    {
      "cell_type": "code",
      "metadata": {
        "colab": {
          "base_uri": "https://localhost:8080/"
        },
        "id": "perfect-respect",
        "outputId": "8eb6034e-c8c6-4b5b-9d23-c2f656b6a09a"
      },
      "source": [
        "#first make sure datareader and pytrends are installed (comment this out if it already is):\n",
        "!pip install pandas-datareader           #remove ! if not using Colab\n",
        "!pip install pytrends"
      ],
      "id": "perfect-respect",
      "execution_count": 1,
      "outputs": [
        {
          "output_type": "stream",
          "text": [
            "Requirement already satisfied: pandas-datareader in /usr/local/lib/python3.7/dist-packages (0.9.0)\n",
            "Requirement already satisfied: lxml in /usr/local/lib/python3.7/dist-packages (from pandas-datareader) (4.2.6)\n",
            "Requirement already satisfied: pandas>=0.23 in /usr/local/lib/python3.7/dist-packages (from pandas-datareader) (1.1.5)\n",
            "Requirement already satisfied: requests>=2.19.0 in /usr/local/lib/python3.7/dist-packages (from pandas-datareader) (2.23.0)\n",
            "Requirement already satisfied: pytz>=2017.2 in /usr/local/lib/python3.7/dist-packages (from pandas>=0.23->pandas-datareader) (2018.9)\n",
            "Requirement already satisfied: numpy>=1.15.4 in /usr/local/lib/python3.7/dist-packages (from pandas>=0.23->pandas-datareader) (1.19.5)\n",
            "Requirement already satisfied: python-dateutil>=2.7.3 in /usr/local/lib/python3.7/dist-packages (from pandas>=0.23->pandas-datareader) (2.8.1)\n",
            "Requirement already satisfied: chardet<4,>=3.0.2 in /usr/local/lib/python3.7/dist-packages (from requests>=2.19.0->pandas-datareader) (3.0.4)\n",
            "Requirement already satisfied: certifi>=2017.4.17 in /usr/local/lib/python3.7/dist-packages (from requests>=2.19.0->pandas-datareader) (2020.12.5)\n",
            "Requirement already satisfied: urllib3!=1.25.0,!=1.25.1,<1.26,>=1.21.1 in /usr/local/lib/python3.7/dist-packages (from requests>=2.19.0->pandas-datareader) (1.24.3)\n",
            "Requirement already satisfied: idna<3,>=2.5 in /usr/local/lib/python3.7/dist-packages (from requests>=2.19.0->pandas-datareader) (2.10)\n",
            "Requirement already satisfied: six>=1.5 in /usr/local/lib/python3.7/dist-packages (from python-dateutil>=2.7.3->pandas>=0.23->pandas-datareader) (1.15.0)\n",
            "Collecting pytrends\n",
            "  Downloading https://files.pythonhosted.org/packages/96/53/a4a74c33bfdbe1740183e00769377352072e64182913562daf9f5e4f1938/pytrends-4.7.3-py3-none-any.whl\n",
            "Requirement already satisfied: requests in /usr/local/lib/python3.7/dist-packages (from pytrends) (2.23.0)\n",
            "Requirement already satisfied: lxml in /usr/local/lib/python3.7/dist-packages (from pytrends) (4.2.6)\n",
            "Requirement already satisfied: pandas>=0.25 in /usr/local/lib/python3.7/dist-packages (from pytrends) (1.1.5)\n",
            "Requirement already satisfied: urllib3!=1.25.0,!=1.25.1,<1.26,>=1.21.1 in /usr/local/lib/python3.7/dist-packages (from requests->pytrends) (1.24.3)\n",
            "Requirement already satisfied: chardet<4,>=3.0.2 in /usr/local/lib/python3.7/dist-packages (from requests->pytrends) (3.0.4)\n",
            "Requirement already satisfied: certifi>=2017.4.17 in /usr/local/lib/python3.7/dist-packages (from requests->pytrends) (2020.12.5)\n",
            "Requirement already satisfied: idna<3,>=2.5 in /usr/local/lib/python3.7/dist-packages (from requests->pytrends) (2.10)\n",
            "Requirement already satisfied: python-dateutil>=2.7.3 in /usr/local/lib/python3.7/dist-packages (from pandas>=0.25->pytrends) (2.8.1)\n",
            "Requirement already satisfied: pytz>=2017.2 in /usr/local/lib/python3.7/dist-packages (from pandas>=0.25->pytrends) (2018.9)\n",
            "Requirement already satisfied: numpy>=1.15.4 in /usr/local/lib/python3.7/dist-packages (from pandas>=0.25->pytrends) (1.19.5)\n",
            "Requirement already satisfied: six>=1.5 in /usr/local/lib/python3.7/dist-packages (from python-dateutil>=2.7.3->pandas>=0.25->pytrends) (1.15.0)\n",
            "Installing collected packages: pytrends\n",
            "Successfully installed pytrends-4.7.3\n"
          ],
          "name": "stdout"
        }
      ]
    },
    {
      "cell_type": "code",
      "metadata": {
        "id": "amended-philosophy",
        "colab": {
          "base_uri": "https://localhost:8080/"
        },
        "outputId": "48f1fc4f-55e7-4151-975c-eaa0bff8c42f"
      },
      "source": [
        "#import datareader\n",
        "import pandas_datareader as pdr\n",
        "import pandas as pd\n",
        "import numpy as np\n",
        "from datetime import datetime\n",
        "import matplotlib.pyplot as plt\n",
        "import pandas as pd                        \n",
        "from pytrends.request import TrendReq\n",
        "from sklearn.metrics import mean_squared_error\n",
        "import statsmodels.api as sm\n",
        "from scipy.stats import f\n",
        "from statsmodels.tsa.api import ExponentialSmoothing\n",
        "%matplotlib inline"
      ],
      "id": "amended-philosophy",
      "execution_count": 2,
      "outputs": [
        {
          "output_type": "stream",
          "text": [
            "/usr/local/lib/python3.7/dist-packages/statsmodels/tools/_testing.py:19: FutureWarning: pandas.util.testing is deprecated. Use the functions in the public API at pandas.testing instead.\n",
            "  import pandas.util.testing as tm\n"
          ],
          "name": "stderr"
        }
      ]
    },
    {
      "cell_type": "code",
      "metadata": {
        "id": "residential-brother"
      },
      "source": [
        "#use tiingo api with Elliot's key hardcoded to obtain daily historical price within a range for a given list of equities\n",
        "s = '2019-01-04'\n",
        "e = '2021-03-31'\n",
        "companies = ['AAPL','TSLA','GOOG','MSFT','GME']\n",
        "five_Ticker_Closing_Prices = pdr.tiingo.TiingoDailyReader(companies,start=s,end=e,api_key=\"ca7ab3bc66a5c4dff19a6eb8bebcee46c3331411\")"
      ],
      "id": "residential-brother",
      "execution_count": 3,
      "outputs": []
    },
    {
      "cell_type": "code",
      "metadata": {
        "colab": {
          "base_uri": "https://localhost:8080/",
          "height": 431
        },
        "id": "unlikely-spencer",
        "outputId": "01902e12-578f-4217-a224-2d0350aab6b4"
      },
      "source": [
        "#read the stock data from the info in the form of a pandas dataframe\n",
        "#(because of new years and weekend, trading didnt begin until JANUARY 4th [2021-01-04 00:00:00+00:00])\n",
        "five_Ticker_Closing_Prices.read()"
      ],
      "id": "unlikely-spencer",
      "execution_count": 4,
      "outputs": [
        {
          "output_type": "execute_result",
          "data": {
            "text/html": [
              "<div>\n",
              "<style scoped>\n",
              "    .dataframe tbody tr th:only-of-type {\n",
              "        vertical-align: middle;\n",
              "    }\n",
              "\n",
              "    .dataframe tbody tr th {\n",
              "        vertical-align: top;\n",
              "    }\n",
              "\n",
              "    .dataframe thead th {\n",
              "        text-align: right;\n",
              "    }\n",
              "</style>\n",
              "<table border=\"1\" class=\"dataframe\">\n",
              "  <thead>\n",
              "    <tr style=\"text-align: right;\">\n",
              "      <th></th>\n",
              "      <th></th>\n",
              "      <th>close</th>\n",
              "      <th>high</th>\n",
              "      <th>low</th>\n",
              "      <th>open</th>\n",
              "      <th>volume</th>\n",
              "      <th>adjClose</th>\n",
              "      <th>adjHigh</th>\n",
              "      <th>adjLow</th>\n",
              "      <th>adjOpen</th>\n",
              "      <th>adjVolume</th>\n",
              "      <th>divCash</th>\n",
              "      <th>splitFactor</th>\n",
              "    </tr>\n",
              "    <tr>\n",
              "      <th>symbol</th>\n",
              "      <th>date</th>\n",
              "      <th></th>\n",
              "      <th></th>\n",
              "      <th></th>\n",
              "      <th></th>\n",
              "      <th></th>\n",
              "      <th></th>\n",
              "      <th></th>\n",
              "      <th></th>\n",
              "      <th></th>\n",
              "      <th></th>\n",
              "      <th></th>\n",
              "      <th></th>\n",
              "    </tr>\n",
              "  </thead>\n",
              "  <tbody>\n",
              "    <tr>\n",
              "      <th rowspan=\"5\" valign=\"top\">AAPL</th>\n",
              "      <th>2019-01-04 00:00:00+00:00</th>\n",
              "      <td>148.26</td>\n",
              "      <td>148.5500</td>\n",
              "      <td>143.8000</td>\n",
              "      <td>144.53</td>\n",
              "      <td>58607070</td>\n",
              "      <td>36.147332</td>\n",
              "      <td>36.218037</td>\n",
              "      <td>35.059938</td>\n",
              "      <td>35.237919</td>\n",
              "      <td>234428280</td>\n",
              "      <td>0.0</td>\n",
              "      <td>1.0</td>\n",
              "    </tr>\n",
              "    <tr>\n",
              "      <th>2019-01-07 00:00:00+00:00</th>\n",
              "      <td>147.93</td>\n",
              "      <td>148.8300</td>\n",
              "      <td>145.9000</td>\n",
              "      <td>148.70</td>\n",
              "      <td>54777764</td>\n",
              "      <td>36.066875</td>\n",
              "      <td>36.286304</td>\n",
              "      <td>35.571939</td>\n",
              "      <td>36.254609</td>\n",
              "      <td>219111056</td>\n",
              "      <td>0.0</td>\n",
              "      <td>1.0</td>\n",
              "    </tr>\n",
              "    <tr>\n",
              "      <th>2019-01-08 00:00:00+00:00</th>\n",
              "      <td>150.75</td>\n",
              "      <td>151.8200</td>\n",
              "      <td>148.5200</td>\n",
              "      <td>149.56</td>\n",
              "      <td>41025314</td>\n",
              "      <td>36.754420</td>\n",
              "      <td>37.015297</td>\n",
              "      <td>36.210723</td>\n",
              "      <td>36.464286</td>\n",
              "      <td>164101256</td>\n",
              "      <td>0.0</td>\n",
              "      <td>1.0</td>\n",
              "    </tr>\n",
              "    <tr>\n",
              "      <th>2019-01-09 00:00:00+00:00</th>\n",
              "      <td>153.31</td>\n",
              "      <td>154.5300</td>\n",
              "      <td>149.6300</td>\n",
              "      <td>151.29</td>\n",
              "      <td>45099081</td>\n",
              "      <td>37.378575</td>\n",
              "      <td>37.676023</td>\n",
              "      <td>36.481352</td>\n",
              "      <td>36.886078</td>\n",
              "      <td>180396324</td>\n",
              "      <td>0.0</td>\n",
              "      <td>1.0</td>\n",
              "    </tr>\n",
              "    <tr>\n",
              "      <th>2019-01-10 00:00:00+00:00</th>\n",
              "      <td>153.80</td>\n",
              "      <td>153.9700</td>\n",
              "      <td>150.8600</td>\n",
              "      <td>152.50</td>\n",
              "      <td>35780670</td>\n",
              "      <td>37.498042</td>\n",
              "      <td>37.539489</td>\n",
              "      <td>36.781239</td>\n",
              "      <td>37.181088</td>\n",
              "      <td>143122680</td>\n",
              "      <td>0.0</td>\n",
              "      <td>1.0</td>\n",
              "    </tr>\n",
              "    <tr>\n",
              "      <th>...</th>\n",
              "      <th>...</th>\n",
              "      <td>...</td>\n",
              "      <td>...</td>\n",
              "      <td>...</td>\n",
              "      <td>...</td>\n",
              "      <td>...</td>\n",
              "      <td>...</td>\n",
              "      <td>...</td>\n",
              "      <td>...</td>\n",
              "      <td>...</td>\n",
              "      <td>...</td>\n",
              "      <td>...</td>\n",
              "      <td>...</td>\n",
              "    </tr>\n",
              "    <tr>\n",
              "      <th rowspan=\"5\" valign=\"top\">GME</th>\n",
              "      <th>2021-03-25 00:00:00+00:00</th>\n",
              "      <td>183.75</td>\n",
              "      <td>187.5000</td>\n",
              "      <td>116.9000</td>\n",
              "      <td>123.49</td>\n",
              "      <td>49926442</td>\n",
              "      <td>183.750000</td>\n",
              "      <td>187.500000</td>\n",
              "      <td>116.900000</td>\n",
              "      <td>123.490000</td>\n",
              "      <td>49926442</td>\n",
              "      <td>0.0</td>\n",
              "      <td>1.0</td>\n",
              "    </tr>\n",
              "    <tr>\n",
              "      <th>2021-03-26 00:00:00+00:00</th>\n",
              "      <td>181.00</td>\n",
              "      <td>218.9344</td>\n",
              "      <td>163.2600</td>\n",
              "      <td>197.68</td>\n",
              "      <td>37430672</td>\n",
              "      <td>181.000000</td>\n",
              "      <td>218.934400</td>\n",
              "      <td>163.260000</td>\n",
              "      <td>197.680000</td>\n",
              "      <td>37430672</td>\n",
              "      <td>0.0</td>\n",
              "      <td>1.0</td>\n",
              "    </tr>\n",
              "    <tr>\n",
              "      <th>2021-03-29 00:00:00+00:00</th>\n",
              "      <td>181.30</td>\n",
              "      <td>193.9200</td>\n",
              "      <td>173.5100</td>\n",
              "      <td>180.75</td>\n",
              "      <td>10042175</td>\n",
              "      <td>181.300000</td>\n",
              "      <td>193.920000</td>\n",
              "      <td>173.510000</td>\n",
              "      <td>180.750000</td>\n",
              "      <td>10042175</td>\n",
              "      <td>0.0</td>\n",
              "      <td>1.0</td>\n",
              "    </tr>\n",
              "    <tr>\n",
              "      <th>2021-03-30 00:00:00+00:00</th>\n",
              "      <td>194.46</td>\n",
              "      <td>204.3000</td>\n",
              "      <td>182.0000</td>\n",
              "      <td>187.50</td>\n",
              "      <td>17094924</td>\n",
              "      <td>194.460000</td>\n",
              "      <td>204.300000</td>\n",
              "      <td>182.000000</td>\n",
              "      <td>187.500000</td>\n",
              "      <td>17094924</td>\n",
              "      <td>0.0</td>\n",
              "      <td>1.0</td>\n",
              "    </tr>\n",
              "    <tr>\n",
              "      <th>2021-03-31 00:00:00+00:00</th>\n",
              "      <td>189.82</td>\n",
              "      <td>199.4600</td>\n",
              "      <td>187.1102</td>\n",
              "      <td>197.50</td>\n",
              "      <td>8393834</td>\n",
              "      <td>189.820000</td>\n",
              "      <td>199.460000</td>\n",
              "      <td>187.110200</td>\n",
              "      <td>197.500000</td>\n",
              "      <td>8393834</td>\n",
              "      <td>0.0</td>\n",
              "      <td>1.0</td>\n",
              "    </tr>\n",
              "  </tbody>\n",
              "</table>\n",
              "<p>2820 rows × 12 columns</p>\n",
              "</div>"
            ],
            "text/plain": [
              "                                   close      high  ...  divCash  splitFactor\n",
              "symbol date                                         ...                      \n",
              "AAPL   2019-01-04 00:00:00+00:00  148.26  148.5500  ...      0.0          1.0\n",
              "       2019-01-07 00:00:00+00:00  147.93  148.8300  ...      0.0          1.0\n",
              "       2019-01-08 00:00:00+00:00  150.75  151.8200  ...      0.0          1.0\n",
              "       2019-01-09 00:00:00+00:00  153.31  154.5300  ...      0.0          1.0\n",
              "       2019-01-10 00:00:00+00:00  153.80  153.9700  ...      0.0          1.0\n",
              "...                                  ...       ...  ...      ...          ...\n",
              "GME    2021-03-25 00:00:00+00:00  183.75  187.5000  ...      0.0          1.0\n",
              "       2021-03-26 00:00:00+00:00  181.00  218.9344  ...      0.0          1.0\n",
              "       2021-03-29 00:00:00+00:00  181.30  193.9200  ...      0.0          1.0\n",
              "       2021-03-30 00:00:00+00:00  194.46  204.3000  ...      0.0          1.0\n",
              "       2021-03-31 00:00:00+00:00  189.82  199.4600  ...      0.0          1.0\n",
              "\n",
              "[2820 rows x 12 columns]"
            ]
          },
          "metadata": {
            "tags": []
          },
          "execution_count": 4
        }
      ]
    },
    {
      "cell_type": "code",
      "metadata": {
        "colab": {
          "base_uri": "https://localhost:8080/",
          "height": 195
        },
        "id": "2uF2vBoNKXYg",
        "outputId": "4f9819a0-5936-4dc4-dbcd-e6fe84c1b7e4"
      },
      "source": [
        "#take only closing prices and unpivot\n",
        "stocks = pd.DataFrame(five_Ticker_Closing_Prices.read()['close']).unstack().T.reset_index()[[\"date\"] + companies]\n",
        "stocks.head()"
      ],
      "id": "2uF2vBoNKXYg",
      "execution_count": 5,
      "outputs": [
        {
          "output_type": "execute_result",
          "data": {
            "text/html": [
              "<div>\n",
              "<style scoped>\n",
              "    .dataframe tbody tr th:only-of-type {\n",
              "        vertical-align: middle;\n",
              "    }\n",
              "\n",
              "    .dataframe tbody tr th {\n",
              "        vertical-align: top;\n",
              "    }\n",
              "\n",
              "    .dataframe thead th {\n",
              "        text-align: right;\n",
              "    }\n",
              "</style>\n",
              "<table border=\"1\" class=\"dataframe\">\n",
              "  <thead>\n",
              "    <tr style=\"text-align: right;\">\n",
              "      <th>symbol</th>\n",
              "      <th>date</th>\n",
              "      <th>AAPL</th>\n",
              "      <th>TSLA</th>\n",
              "      <th>GOOG</th>\n",
              "      <th>MSFT</th>\n",
              "      <th>GME</th>\n",
              "    </tr>\n",
              "  </thead>\n",
              "  <tbody>\n",
              "    <tr>\n",
              "      <th>0</th>\n",
              "      <td>2019-01-04 00:00:00+00:00</td>\n",
              "      <td>148.26</td>\n",
              "      <td>317.69</td>\n",
              "      <td>1070.71</td>\n",
              "      <td>101.93</td>\n",
              "      <td>15.24</td>\n",
              "    </tr>\n",
              "    <tr>\n",
              "      <th>1</th>\n",
              "      <td>2019-01-07 00:00:00+00:00</td>\n",
              "      <td>147.93</td>\n",
              "      <td>334.96</td>\n",
              "      <td>1068.39</td>\n",
              "      <td>102.06</td>\n",
              "      <td>15.48</td>\n",
              "    </tr>\n",
              "    <tr>\n",
              "      <th>2</th>\n",
              "      <td>2019-01-08 00:00:00+00:00</td>\n",
              "      <td>150.75</td>\n",
              "      <td>335.35</td>\n",
              "      <td>1076.28</td>\n",
              "      <td>102.80</td>\n",
              "      <td>15.81</td>\n",
              "    </tr>\n",
              "    <tr>\n",
              "      <th>3</th>\n",
              "      <td>2019-01-09 00:00:00+00:00</td>\n",
              "      <td>153.31</td>\n",
              "      <td>338.53</td>\n",
              "      <td>1074.66</td>\n",
              "      <td>104.27</td>\n",
              "      <td>15.98</td>\n",
              "    </tr>\n",
              "    <tr>\n",
              "      <th>4</th>\n",
              "      <td>2019-01-10 00:00:00+00:00</td>\n",
              "      <td>153.80</td>\n",
              "      <td>344.97</td>\n",
              "      <td>1070.33</td>\n",
              "      <td>103.60</td>\n",
              "      <td>15.96</td>\n",
              "    </tr>\n",
              "  </tbody>\n",
              "</table>\n",
              "</div>"
            ],
            "text/plain": [
              "symbol                      date    AAPL    TSLA     GOOG    MSFT    GME\n",
              "0      2019-01-04 00:00:00+00:00  148.26  317.69  1070.71  101.93  15.24\n",
              "1      2019-01-07 00:00:00+00:00  147.93  334.96  1068.39  102.06  15.48\n",
              "2      2019-01-08 00:00:00+00:00  150.75  335.35  1076.28  102.80  15.81\n",
              "3      2019-01-09 00:00:00+00:00  153.31  338.53  1074.66  104.27  15.98\n",
              "4      2019-01-10 00:00:00+00:00  153.80  344.97  1070.33  103.60  15.96"
            ]
          },
          "metadata": {
            "tags": []
          },
          "execution_count": 5
        }
      ]
    },
    {
      "cell_type": "markdown",
      "metadata": {
        "id": "x3RsLX0-ZBC0"
      },
      "source": [
        "Handling missing data: find missind dates, add them to the dataframe and interpolate"
      ],
      "id": "x3RsLX0-ZBC0"
    },
    {
      "cell_type": "code",
      "metadata": {
        "id": "designing-poison"
      },
      "source": [
        "#find missing dates; create a new df\n",
        "datelist = pd.date_range(pd.to_datetime(s), end=e, tz=stocks.date[0].tz).tolist()\n",
        "missing_dates = set(datelist) - set(stocks.date)\n",
        "missing = pd.DataFrame(index=range(len(missing_dates)), columns=companies)\n",
        "missing['date'] = missing_dates"
      ],
      "id": "designing-poison",
      "execution_count": 6,
      "outputs": []
    },
    {
      "cell_type": "code",
      "metadata": {
        "colab": {
          "base_uri": "https://localhost:8080/",
          "height": 343
        },
        "id": "7uQN3mZxOaNt",
        "outputId": "1caf2ded-297b-4047-ed9a-c659250f0f01"
      },
      "source": [
        "#insert missing dates\n",
        "stocks = stocks.append(missing, ignore_index=True).sort_values(by=['date']).reset_index()\n",
        "del stocks['index']\n",
        "stocks.head(10)"
      ],
      "id": "7uQN3mZxOaNt",
      "execution_count": 7,
      "outputs": [
        {
          "output_type": "execute_result",
          "data": {
            "text/html": [
              "<div>\n",
              "<style scoped>\n",
              "    .dataframe tbody tr th:only-of-type {\n",
              "        vertical-align: middle;\n",
              "    }\n",
              "\n",
              "    .dataframe tbody tr th {\n",
              "        vertical-align: top;\n",
              "    }\n",
              "\n",
              "    .dataframe thead th {\n",
              "        text-align: right;\n",
              "    }\n",
              "</style>\n",
              "<table border=\"1\" class=\"dataframe\">\n",
              "  <thead>\n",
              "    <tr style=\"text-align: right;\">\n",
              "      <th></th>\n",
              "      <th>date</th>\n",
              "      <th>AAPL</th>\n",
              "      <th>TSLA</th>\n",
              "      <th>GOOG</th>\n",
              "      <th>MSFT</th>\n",
              "      <th>GME</th>\n",
              "    </tr>\n",
              "  </thead>\n",
              "  <tbody>\n",
              "    <tr>\n",
              "      <th>0</th>\n",
              "      <td>2019-01-04 00:00:00+00:00</td>\n",
              "      <td>148.26</td>\n",
              "      <td>317.69</td>\n",
              "      <td>1070.71</td>\n",
              "      <td>101.93</td>\n",
              "      <td>15.24</td>\n",
              "    </tr>\n",
              "    <tr>\n",
              "      <th>1</th>\n",
              "      <td>2019-01-05 00:00:00+00:00</td>\n",
              "      <td>NaN</td>\n",
              "      <td>NaN</td>\n",
              "      <td>NaN</td>\n",
              "      <td>NaN</td>\n",
              "      <td>NaN</td>\n",
              "    </tr>\n",
              "    <tr>\n",
              "      <th>2</th>\n",
              "      <td>2019-01-06 00:00:00+00:00</td>\n",
              "      <td>NaN</td>\n",
              "      <td>NaN</td>\n",
              "      <td>NaN</td>\n",
              "      <td>NaN</td>\n",
              "      <td>NaN</td>\n",
              "    </tr>\n",
              "    <tr>\n",
              "      <th>3</th>\n",
              "      <td>2019-01-07 00:00:00+00:00</td>\n",
              "      <td>147.93</td>\n",
              "      <td>334.96</td>\n",
              "      <td>1068.39</td>\n",
              "      <td>102.06</td>\n",
              "      <td>15.48</td>\n",
              "    </tr>\n",
              "    <tr>\n",
              "      <th>4</th>\n",
              "      <td>2019-01-08 00:00:00+00:00</td>\n",
              "      <td>150.75</td>\n",
              "      <td>335.35</td>\n",
              "      <td>1076.28</td>\n",
              "      <td>102.80</td>\n",
              "      <td>15.81</td>\n",
              "    </tr>\n",
              "    <tr>\n",
              "      <th>5</th>\n",
              "      <td>2019-01-09 00:00:00+00:00</td>\n",
              "      <td>153.31</td>\n",
              "      <td>338.53</td>\n",
              "      <td>1074.66</td>\n",
              "      <td>104.27</td>\n",
              "      <td>15.98</td>\n",
              "    </tr>\n",
              "    <tr>\n",
              "      <th>6</th>\n",
              "      <td>2019-01-10 00:00:00+00:00</td>\n",
              "      <td>153.80</td>\n",
              "      <td>344.97</td>\n",
              "      <td>1070.33</td>\n",
              "      <td>103.60</td>\n",
              "      <td>15.96</td>\n",
              "    </tr>\n",
              "    <tr>\n",
              "      <th>7</th>\n",
              "      <td>2019-01-11 00:00:00+00:00</td>\n",
              "      <td>152.29</td>\n",
              "      <td>347.26</td>\n",
              "      <td>1057.19</td>\n",
              "      <td>102.80</td>\n",
              "      <td>15.85</td>\n",
              "    </tr>\n",
              "    <tr>\n",
              "      <th>8</th>\n",
              "      <td>2019-01-12 00:00:00+00:00</td>\n",
              "      <td>NaN</td>\n",
              "      <td>NaN</td>\n",
              "      <td>NaN</td>\n",
              "      <td>NaN</td>\n",
              "      <td>NaN</td>\n",
              "    </tr>\n",
              "    <tr>\n",
              "      <th>9</th>\n",
              "      <td>2019-01-13 00:00:00+00:00</td>\n",
              "      <td>NaN</td>\n",
              "      <td>NaN</td>\n",
              "      <td>NaN</td>\n",
              "      <td>NaN</td>\n",
              "      <td>NaN</td>\n",
              "    </tr>\n",
              "  </tbody>\n",
              "</table>\n",
              "</div>"
            ],
            "text/plain": [
              "                       date    AAPL    TSLA     GOOG    MSFT    GME\n",
              "0 2019-01-04 00:00:00+00:00  148.26  317.69  1070.71  101.93  15.24\n",
              "1 2019-01-05 00:00:00+00:00     NaN     NaN      NaN     NaN    NaN\n",
              "2 2019-01-06 00:00:00+00:00     NaN     NaN      NaN     NaN    NaN\n",
              "3 2019-01-07 00:00:00+00:00  147.93  334.96  1068.39  102.06  15.48\n",
              "4 2019-01-08 00:00:00+00:00  150.75  335.35  1076.28  102.80  15.81\n",
              "5 2019-01-09 00:00:00+00:00  153.31  338.53  1074.66  104.27  15.98\n",
              "6 2019-01-10 00:00:00+00:00  153.80  344.97  1070.33  103.60  15.96\n",
              "7 2019-01-11 00:00:00+00:00  152.29  347.26  1057.19  102.80  15.85\n",
              "8 2019-01-12 00:00:00+00:00     NaN     NaN      NaN     NaN    NaN\n",
              "9 2019-01-13 00:00:00+00:00     NaN     NaN      NaN     NaN    NaN"
            ]
          },
          "metadata": {
            "tags": []
          },
          "execution_count": 7
        }
      ]
    },
    {
      "cell_type": "code",
      "metadata": {
        "colab": {
          "base_uri": "https://localhost:8080/",
          "height": 343
        },
        "id": "PQ19oQslXfnF",
        "outputId": "7f4ac349-c679-436c-aeab-27b28107261f"
      },
      "source": [
        "#interpolate with standard linear settings\n",
        "[stocks[col].interpolate(inplace=True) for col in companies]\n",
        "stocks.head(10)"
      ],
      "id": "PQ19oQslXfnF",
      "execution_count": 8,
      "outputs": [
        {
          "output_type": "execute_result",
          "data": {
            "text/html": [
              "<div>\n",
              "<style scoped>\n",
              "    .dataframe tbody tr th:only-of-type {\n",
              "        vertical-align: middle;\n",
              "    }\n",
              "\n",
              "    .dataframe tbody tr th {\n",
              "        vertical-align: top;\n",
              "    }\n",
              "\n",
              "    .dataframe thead th {\n",
              "        text-align: right;\n",
              "    }\n",
              "</style>\n",
              "<table border=\"1\" class=\"dataframe\">\n",
              "  <thead>\n",
              "    <tr style=\"text-align: right;\">\n",
              "      <th></th>\n",
              "      <th>date</th>\n",
              "      <th>AAPL</th>\n",
              "      <th>TSLA</th>\n",
              "      <th>GOOG</th>\n",
              "      <th>MSFT</th>\n",
              "      <th>GME</th>\n",
              "    </tr>\n",
              "  </thead>\n",
              "  <tbody>\n",
              "    <tr>\n",
              "      <th>0</th>\n",
              "      <td>2019-01-04 00:00:00+00:00</td>\n",
              "      <td>148.260000</td>\n",
              "      <td>317.690000</td>\n",
              "      <td>1070.710000</td>\n",
              "      <td>101.930000</td>\n",
              "      <td>15.24</td>\n",
              "    </tr>\n",
              "    <tr>\n",
              "      <th>1</th>\n",
              "      <td>2019-01-05 00:00:00+00:00</td>\n",
              "      <td>148.150000</td>\n",
              "      <td>323.446667</td>\n",
              "      <td>1069.936667</td>\n",
              "      <td>101.973333</td>\n",
              "      <td>15.32</td>\n",
              "    </tr>\n",
              "    <tr>\n",
              "      <th>2</th>\n",
              "      <td>2019-01-06 00:00:00+00:00</td>\n",
              "      <td>148.040000</td>\n",
              "      <td>329.203333</td>\n",
              "      <td>1069.163333</td>\n",
              "      <td>102.016667</td>\n",
              "      <td>15.40</td>\n",
              "    </tr>\n",
              "    <tr>\n",
              "      <th>3</th>\n",
              "      <td>2019-01-07 00:00:00+00:00</td>\n",
              "      <td>147.930000</td>\n",
              "      <td>334.960000</td>\n",
              "      <td>1068.390000</td>\n",
              "      <td>102.060000</td>\n",
              "      <td>15.48</td>\n",
              "    </tr>\n",
              "    <tr>\n",
              "      <th>4</th>\n",
              "      <td>2019-01-08 00:00:00+00:00</td>\n",
              "      <td>150.750000</td>\n",
              "      <td>335.350000</td>\n",
              "      <td>1076.280000</td>\n",
              "      <td>102.800000</td>\n",
              "      <td>15.81</td>\n",
              "    </tr>\n",
              "    <tr>\n",
              "      <th>5</th>\n",
              "      <td>2019-01-09 00:00:00+00:00</td>\n",
              "      <td>153.310000</td>\n",
              "      <td>338.530000</td>\n",
              "      <td>1074.660000</td>\n",
              "      <td>104.270000</td>\n",
              "      <td>15.98</td>\n",
              "    </tr>\n",
              "    <tr>\n",
              "      <th>6</th>\n",
              "      <td>2019-01-10 00:00:00+00:00</td>\n",
              "      <td>153.800000</td>\n",
              "      <td>344.970000</td>\n",
              "      <td>1070.330000</td>\n",
              "      <td>103.600000</td>\n",
              "      <td>15.96</td>\n",
              "    </tr>\n",
              "    <tr>\n",
              "      <th>7</th>\n",
              "      <td>2019-01-11 00:00:00+00:00</td>\n",
              "      <td>152.290000</td>\n",
              "      <td>347.260000</td>\n",
              "      <td>1057.190000</td>\n",
              "      <td>102.800000</td>\n",
              "      <td>15.85</td>\n",
              "    </tr>\n",
              "    <tr>\n",
              "      <th>8</th>\n",
              "      <td>2019-01-12 00:00:00+00:00</td>\n",
              "      <td>151.526667</td>\n",
              "      <td>342.973333</td>\n",
              "      <td>1053.023333</td>\n",
              "      <td>102.550000</td>\n",
              "      <td>15.78</td>\n",
              "    </tr>\n",
              "    <tr>\n",
              "      <th>9</th>\n",
              "      <td>2019-01-13 00:00:00+00:00</td>\n",
              "      <td>150.763333</td>\n",
              "      <td>338.686667</td>\n",
              "      <td>1048.856667</td>\n",
              "      <td>102.300000</td>\n",
              "      <td>15.71</td>\n",
              "    </tr>\n",
              "  </tbody>\n",
              "</table>\n",
              "</div>"
            ],
            "text/plain": [
              "                       date        AAPL  ...        MSFT    GME\n",
              "0 2019-01-04 00:00:00+00:00  148.260000  ...  101.930000  15.24\n",
              "1 2019-01-05 00:00:00+00:00  148.150000  ...  101.973333  15.32\n",
              "2 2019-01-06 00:00:00+00:00  148.040000  ...  102.016667  15.40\n",
              "3 2019-01-07 00:00:00+00:00  147.930000  ...  102.060000  15.48\n",
              "4 2019-01-08 00:00:00+00:00  150.750000  ...  102.800000  15.81\n",
              "5 2019-01-09 00:00:00+00:00  153.310000  ...  104.270000  15.98\n",
              "6 2019-01-10 00:00:00+00:00  153.800000  ...  103.600000  15.96\n",
              "7 2019-01-11 00:00:00+00:00  152.290000  ...  102.800000  15.85\n",
              "8 2019-01-12 00:00:00+00:00  151.526667  ...  102.550000  15.78\n",
              "9 2019-01-13 00:00:00+00:00  150.763333  ...  102.300000  15.71\n",
              "\n",
              "[10 rows x 6 columns]"
            ]
          },
          "metadata": {
            "tags": []
          },
          "execution_count": 8
        }
      ]
    },
    {
      "cell_type": "markdown",
      "metadata": {
        "id": "umyh9-YZaD8o"
      },
      "source": [
        "# Get Data from Google Trends\n",
        "Install pytrends (if needed) and import packages. \n",
        "Select pytrends to be searched based on American English, and a timezone of 300 (which is US-EST). Use https://forbrains.co.uk/international_tools/earth_timezones to change timezone, but drop the \"-\" sign. For example, if EST is \"-300\", make it \"300\". More info on this link: https://stackoverflow.com/questions/51337898/get-another-timezone-in-pytrend-api-offset"
      ],
      "id": "umyh9-YZaD8o"
    },
    {
      "cell_type": "code",
      "metadata": {
        "id": "QygM38ZiceI3"
      },
      "source": [
        "pytrend = TrendReq(hl='en-US', tz=300)"
      ],
      "id": "QygM38ZiceI3",
      "execution_count": 9,
      "outputs": []
    },
    {
      "cell_type": "code",
      "metadata": {
        "id": "zY1142Bvc6wG"
      },
      "source": [
        "dataset = []\n",
        "\n",
        "for x in range(0,len(companies)):\n",
        "     keywords = [companies[x]]\n",
        "     pytrend.build_payload(\n",
        "     kw_list=keywords,\n",
        "     cat=0, \n",
        "     timeframe=s+\" \"+e,\n",
        "     geo='US')\n",
        "     data = pytrend.interest_over_time()\n",
        "     if not data.empty:\n",
        "          data = data.drop(labels=['isPartial'],axis='columns')\n",
        "          dataset.append(data)\n",
        "\n",
        "dataset = pd.concat(dataset, axis=1)"
      ],
      "id": "zY1142Bvc6wG",
      "execution_count": 10,
      "outputs": []
    },
    {
      "cell_type": "code",
      "metadata": {
        "colab": {
          "base_uri": "https://localhost:8080/",
          "height": 225
        },
        "id": "g9YW7lfpdbb3",
        "outputId": "5b203a3d-e380-4589-96d8-6cfc4252d7c8"
      },
      "source": [
        "dataset.head()"
      ],
      "id": "g9YW7lfpdbb3",
      "execution_count": 11,
      "outputs": [
        {
          "output_type": "execute_result",
          "data": {
            "text/html": [
              "<div>\n",
              "<style scoped>\n",
              "    .dataframe tbody tr th:only-of-type {\n",
              "        vertical-align: middle;\n",
              "    }\n",
              "\n",
              "    .dataframe tbody tr th {\n",
              "        vertical-align: top;\n",
              "    }\n",
              "\n",
              "    .dataframe thead th {\n",
              "        text-align: right;\n",
              "    }\n",
              "</style>\n",
              "<table border=\"1\" class=\"dataframe\">\n",
              "  <thead>\n",
              "    <tr style=\"text-align: right;\">\n",
              "      <th></th>\n",
              "      <th>AAPL</th>\n",
              "      <th>TSLA</th>\n",
              "      <th>GOOG</th>\n",
              "      <th>MSFT</th>\n",
              "      <th>GME</th>\n",
              "    </tr>\n",
              "    <tr>\n",
              "      <th>date</th>\n",
              "      <th></th>\n",
              "      <th></th>\n",
              "      <th></th>\n",
              "      <th></th>\n",
              "      <th></th>\n",
              "    </tr>\n",
              "  </thead>\n",
              "  <tbody>\n",
              "    <tr>\n",
              "      <th>2019-01-06</th>\n",
              "      <td>30</td>\n",
              "      <td>9</td>\n",
              "      <td>64</td>\n",
              "      <td>23</td>\n",
              "      <td>0</td>\n",
              "    </tr>\n",
              "    <tr>\n",
              "      <th>2019-01-13</th>\n",
              "      <td>23</td>\n",
              "      <td>11</td>\n",
              "      <td>64</td>\n",
              "      <td>22</td>\n",
              "      <td>0</td>\n",
              "    </tr>\n",
              "    <tr>\n",
              "      <th>2019-01-20</th>\n",
              "      <td>18</td>\n",
              "      <td>12</td>\n",
              "      <td>56</td>\n",
              "      <td>15</td>\n",
              "      <td>0</td>\n",
              "    </tr>\n",
              "    <tr>\n",
              "      <th>2019-01-27</th>\n",
              "      <td>46</td>\n",
              "      <td>16</td>\n",
              "      <td>72</td>\n",
              "      <td>40</td>\n",
              "      <td>0</td>\n",
              "    </tr>\n",
              "    <tr>\n",
              "      <th>2019-02-03</th>\n",
              "      <td>26</td>\n",
              "      <td>10</td>\n",
              "      <td>92</td>\n",
              "      <td>19</td>\n",
              "      <td>0</td>\n",
              "    </tr>\n",
              "  </tbody>\n",
              "</table>\n",
              "</div>"
            ],
            "text/plain": [
              "            AAPL  TSLA  GOOG  MSFT  GME\n",
              "date                                   \n",
              "2019-01-06    30     9    64    23    0\n",
              "2019-01-13    23    11    64    22    0\n",
              "2019-01-20    18    12    56    15    0\n",
              "2019-01-27    46    16    72    40    0\n",
              "2019-02-03    26    10    92    19    0"
            ]
          },
          "metadata": {
            "tags": []
          },
          "execution_count": 11
        }
      ]
    },
    {
      "cell_type": "markdown",
      "metadata": {
        "id": "SiU_0uCddj7K"
      },
      "source": [
        "##Forecasting models"
      ],
      "id": "SiU_0uCddj7K"
    },
    {
      "cell_type": "markdown",
      "metadata": {
        "id": "YgFbeFwtHPG_"
      },
      "source": [
        "###Train/Test split"
      ],
      "id": "YgFbeFwtHPG_"
    },
    {
      "cell_type": "code",
      "metadata": {
        "id": "mugHsrfXHT5n"
      },
      "source": [
        "test_size = 0.1\n",
        "split_idx = int(np.floor((1-test_size)*len(stocks)))\n",
        "stocks_train = stocks.iloc[:split_idx,:]\n",
        "stocks_test = stocks.iloc[split_idx:,:]"
      ],
      "id": "mugHsrfXHT5n",
      "execution_count": 12,
      "outputs": []
    },
    {
      "cell_type": "code",
      "metadata": {
        "colab": {
          "base_uri": "https://localhost:8080/",
          "height": 282
        },
        "id": "lZaPmSILJmf7",
        "outputId": "3fe92034-2ae0-4565-db34-80f3fd3e95bb"
      },
      "source": [
        "plt.plot(stocks_train.iloc[:,1])\n",
        "plt.plot(stocks_test.iloc[:,1])"
      ],
      "id": "lZaPmSILJmf7",
      "execution_count": 13,
      "outputs": [
        {
          "output_type": "execute_result",
          "data": {
            "text/plain": [
              "[<matplotlib.lines.Line2D at 0x7f0069085250>]"
            ]
          },
          "metadata": {
            "tags": []
          },
          "execution_count": 13
        },
        {
          "output_type": "display_data",
          "data": {
            "image/png": "[encoded data removed]",
            "text/plain": [
              "<Figure size 432x288 with 1 Axes>"
            ]
          },
          "metadata": {
            "tags": [],
            "needs_background": "light"
          }
        }
      ]
    },
    {
      "cell_type": "markdown",
      "metadata": {
        "id": "8yDqkjUSglxG"
      },
      "source": [
        "###Linear Regression"
      ],
      "id": "8yDqkjUSglxG"
    },
    {
      "cell_type": "code",
      "metadata": {
        "id": "ujD_Ae-am1ts"
      },
      "source": [
        "#set max power and create list of predictors\n",
        "p = 4\n",
        "t_trRng = np.array(range(len(stocks_train)))\n",
        "t_testRng = np.array(range(len(stocks_train), len(stocks)))\n",
        "t_train = np.array([t_trRng**i for i in range(p)]).T\n",
        "t_test = np.array([t_testRng**i for i in range(p)]).T"
      ],
      "id": "ujD_Ae-am1ts",
      "execution_count": 14,
      "outputs": []
    },
    {
      "cell_type": "markdown",
      "metadata": {
        "id": "Ni46qKYupBV3"
      },
      "source": [
        "Fit a regression line using OLS from statsmodels. Testing significance with F-test."
      ],
      "id": "Ni46qKYupBV3"
    },
    {
      "cell_type": "code",
      "metadata": {
        "id": "pZv75FnqgovN"
      },
      "source": [
        "fit_lr = []\n",
        "yhat_lr = []\n",
        "for i in range(len(companies)):\n",
        "    y = stocks_train.iloc[:, i+1]\n",
        "    y_mean = np.mean(y)\n",
        "    lr_fin = sm.OLS(y, t_train[:,:2]).fit()\n",
        "    x1a = t_train[:,:2]\n",
        "    x1a_t = t_test[:,:2]\n",
        "    for j in range(2, p):\n",
        "        lr0 = lr_fin\n",
        "        x0 = x1a\n",
        "        t0 = x1a_t\n",
        "        y_pr0 = lr0.predict(x0)\n",
        "        ypr0_t = lr0.predict(t0)\n",
        "        ssr0 = sum((y_pr0 - y_mean)**2)\n",
        "        x1a = t_train[:, :j+1]\n",
        "        x1a_t = t_test[:, :j+1]\n",
        "        lr1 = sm.OLS(y, x1a).fit()\n",
        "        y_pr1 = lr1.predict(x1a)\n",
        "        ypr1_t = lr1.predict(x1a_t)\n",
        "        ssr1 = sum((y_pr1 - y_mean)**2)\n",
        "        ssr_new = ssr1 - ssr0\n",
        "        mse1 = sum((y - y_pr1)**2)/(len(y) + j - 2)\n",
        "        if ssr_new/mse1 <= f.ppf(0.05, 1, (len(y) + j - 2)):\n",
        "            y_pr = y_pr0\n",
        "            #x_fin = x0\n",
        "            yh = ypr0_t\n",
        "            break\n",
        "        y_pr = y_pr1\n",
        "        yh = ypr1_t\n",
        "        #x_fin = x1a\n",
        "        lr_fin = lr1  \n",
        "    fit_lr.append(y_pr)\n",
        "    yhat_lr.append(yh)"
      ],
      "id": "pZv75FnqgovN",
      "execution_count": 19,
      "outputs": []
    },
    {
      "cell_type": "code",
      "metadata": {
        "colab": {
          "base_uri": "https://localhost:8080/"
        },
        "id": "VZhU2Hc5KkVr",
        "outputId": "ce75c183-5435-4a43-c75a-d445e6ae5996"
      },
      "source": [
        "np.sqrt(mean_squared_error(stocks_train.iloc[:,1], fit_lr[0]))"
      ],
      "id": "VZhU2Hc5KkVr",
      "execution_count": 24,
      "outputs": [
        {
          "output_type": "execute_result",
          "data": {
            "text/plain": [
              "58.688051382603454"
            ]
          },
          "metadata": {
            "tags": []
          },
          "execution_count": 24
        }
      ]
    },
    {
      "cell_type": "code",
      "metadata": {
        "colab": {
          "base_uri": "https://localhost:8080/",
          "height": 282
        },
        "id": "7hBP81run1pF",
        "outputId": "350436ec-7f56-4e2d-ad5c-9c361b460e91"
      },
      "source": [
        "plt.plot(stocks_train.iloc[:,1])\n",
        "plt.plot(stocks_test.iloc[:,1])\n",
        "plt.plot(fit_lr[0])\n",
        "plt.plot(t_testRng, yhat_lr[0])"
      ],
      "id": "7hBP81run1pF",
      "execution_count": 25,
      "outputs": [
        {
          "output_type": "execute_result",
          "data": {
            "text/plain": [
              "[<matplotlib.lines.Line2D at 0x7f005a8bfc90>]"
            ]
          },
          "metadata": {
            "tags": []
          },
          "execution_count": 25
        },
        {
          "output_type": "display_data",
          "data": {
            "image/png": "[encoded data removed]",
            "text/plain": [
              "<Figure size 432x288 with 1 Axes>"
            ]
          },
          "metadata": {
            "tags": [],
            "needs_background": "light"
          }
        }
      ]
    },
    {
      "cell_type": "markdown",
      "metadata": {
        "id": "9AH64UIboPtJ"
      },
      "source": [
        "###Exponential Smoothing"
      ],
      "id": "9AH64UIboPtJ"
    },
    {
      "cell_type": "code",
      "metadata": {
        "id": "GHYosQqlAyvO"
      },
      "source": [
        "yhat_hw = []\n",
        "for i in range(len(companies)):\n",
        "    fit1 = ExponentialSmoothing(np.asarray(stocks_train.iloc[:, i+1]), seasonal_periods=7, trend='add', seasonal='mul').fit()\n",
        "    yhat_hw.append(fit1.forecast(len(t_testRng)))"
      ],
      "id": "GHYosQqlAyvO",
      "execution_count": 53,
      "outputs": []
    },
    {
      "cell_type": "code",
      "metadata": {
        "colab": {
          "base_uri": "https://localhost:8080/",
          "height": 282
        },
        "id": "JGhWMvVQOK5K",
        "outputId": "d3b50dd1-7ae4-4bef-cead-e8a5fd22da51"
      },
      "source": [
        "plt.plot(stocks_train.iloc[:, 1])\n",
        "plt.plot(stocks_test.iloc[:, 1])\n",
        "plt.plot(t_testRng, yhat_hw[0])"
      ],
      "id": "JGhWMvVQOK5K",
      "execution_count": 58,
      "outputs": [
        {
          "output_type": "execute_result",
          "data": {
            "text/plain": [
              "[<matplotlib.lines.Line2D at 0x7f0059ec7650>]"
            ]
          },
          "metadata": {
            "tags": []
          },
          "execution_count": 58
        },
        {
          "output_type": "display_data",
          "data": {
            "image/png": "[encoded data removed]",
            "text/plain": [
              "<Figure size 432x288 with 1 Axes>"
            ]
          },
          "metadata": {
            "tags": [],
            "needs_background": "light"
          }
        }
      ]
    },
    {
      "cell_type": "code",
      "metadata": {
        "id": "YCFcnn7qOoTD"
      },
      "source": [
        ""
      ],
      "id": "YCFcnn7qOoTD",
      "execution_count": null,
      "outputs": []
    }
  ]
}